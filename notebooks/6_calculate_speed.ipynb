{
 "cells": [
  {
   "cell_type": "code",
   "execution_count": 12,
   "id": "c8b949b0",
   "metadata": {},
   "outputs": [],
   "source": [
    "import pandas as pd\n",
    "import geopandas as gpd\n",
    "from shapely.geometry import LineString"
   ]
  },
  {
   "cell_type": "code",
   "execution_count": null,
   "id": "5b045bab",
   "metadata": {},
   "outputs": [],
   "source": [
    "df = gpd.read_parquet('ambulance_nonmed2med_wo_break.parquet')\n",
    "df.head(5)"
   ]
  },
  {
   "cell_type": "code",
   "execution_count": 14,
   "id": "7d9be724",
   "metadata": {},
   "outputs": [],
   "source": [
    "from datetime import datetime\n",
    "from shapely.geometry import Point\n",
    "\n",
    "def get_segment_speeds(line, time_list):\n",
    "    \"\"\"\n",
    "    Returns a list of tuples: (segment_start_point, speed_mps)\n",
    "    \"\"\"\n",
    "    speeds = []\n",
    "    coords = list(line.coords)\n",
    "    for i in range(len(coords) - 1):\n",
    "        pt1 = Point(coords[i])\n",
    "        pt2 = Point(coords[i+1])\n",
    "        try:\n",
    "            t1 = datetime.fromisoformat(time_list[i])\n",
    "            t2 = datetime.fromisoformat(time_list[i+1])\n",
    "            dt = (t2 - t1).total_seconds()\n",
    "            if dt > 0:\n",
    "                dist = pt1.distance(pt2)\n",
    "                speed = dist / dt\n",
    "                speeds.append((pt1, speed))\n",
    "        except Exception:\n",
    "            continue\n",
    "    return speeds"
   ]
  },
  {
   "cell_type": "code",
   "execution_count": 15,
   "id": "ffe3f444",
   "metadata": {},
   "outputs": [],
   "source": [
    "if 'SegmentSpeeds' not in df.columns:\n",
    "    df['SegmentSpeeds'] = None"
   ]
  },
  {
   "cell_type": "code",
   "execution_count": null,
   "id": "4dca543e",
   "metadata": {},
   "outputs": [],
   "source": [
    "from tqdm import tqdm\n",
    "for index, row in tqdm(df.iterrows(), total=df.shape[0]):\n",
    "    df.at[index, 'SegmentSpeeds'] = get_segment_speeds(row['Line'], row['Line_time'])\n",
    "\n",
    "df.head(5)"
   ]
  },
  {
   "cell_type": "code",
   "execution_count": 17,
   "id": "aeac4e01",
   "metadata": {},
   "outputs": [],
   "source": [
    "df['SegmentPoints'] = df['SegmentSpeeds'].apply(\n",
    "    lambda segs: [tuple(pt.coords[0]) for pt, speed in segs] if isinstance(segs, list) else None\n",
    ")\n",
    "df['SegmentSpeeds_mps'] = df['SegmentSpeeds'].apply(\n",
    "    lambda segs: [speed for pt, speed in segs] if isinstance(segs, list) else None\n",
    ")"
   ]
  },
  {
   "cell_type": "code",
   "execution_count": 18,
   "id": "b3ea126e",
   "metadata": {},
   "outputs": [],
   "source": [
    "df = df.drop(columns=['SegmentSpeeds'])"
   ]
  },
  {
   "cell_type": "code",
   "execution_count": null,
   "id": "f027fc86",
   "metadata": {},
   "outputs": [],
   "source": [
    "from pyproj import Transformer\n",
    "\n",
    "transformer = Transformer.from_crs(3857, 4326, always_xy=True)\n",
    "\n",
    "def transform_points(points):\n",
    "    return [transformer.transform(*pt) for pt in points]\n",
    "\n",
    "df['SegmentPoints'] = df['SegmentPoints'].apply(transform_points)\n",
    "df.head(3)"
   ]
  },
  {
   "cell_type": "code",
   "execution_count": null,
   "id": "ecbaee5f",
   "metadata": {},
   "outputs": [],
   "source": [
    "df.to_parquet('df.parquet', index=False)"
   ]
  }
 ],
 "metadata": {
  "kernelspec": {
   "display_name": "Python 3",
   "language": "python",
   "name": "python3"
  },
  "language_info": {
   "codemirror_mode": {
    "name": "ipython",
    "version": 3
   },
   "file_extension": ".py",
   "mimetype": "text/x-python",
   "name": "python",
   "nbconvert_exporter": "python",
   "pygments_lexer": "ipython3",
   "version": "3.13.5"
  }
 },
 "nbformat": 4,
 "nbformat_minor": 5
}
